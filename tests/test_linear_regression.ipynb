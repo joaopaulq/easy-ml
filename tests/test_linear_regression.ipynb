{
 "cells": [
  {
   "cell_type": "markdown",
   "id": "6f2f8c0e",
   "metadata": {},
   "source": [
    "# Setup"
   ]
  },
  {
   "cell_type": "code",
   "execution_count": 23,
   "id": "5530dc50",
   "metadata": {},
   "outputs": [],
   "source": [
    "%matplotlib inline\n",
    "import numpy as np\n",
    "import matplotlib.pyplot as plt\n",
    "\n",
    "from linear_regression import LinearRegression"
   ]
  },
  {
   "cell_type": "markdown",
   "id": "cbab53ae",
   "metadata": {},
   "source": [
    "# Example 1 - Straight Line"
   ]
  },
  {
   "cell_type": "code",
   "execution_count": 66,
   "id": "3db53ed0",
   "metadata": {},
   "outputs": [],
   "source": [
    "X = np.array([[1, 1], [1, 2], [2, 2], [2, 3]])\n",
    "y = np.dot(X, np.array([1, 2])) + 3 # y = 3 + x_0 + 2*x_1"
   ]
  },
  {
   "cell_type": "code",
   "execution_count": 55,
   "id": "17828259",
   "metadata": {},
   "outputs": [],
   "source": [
    "reg = LinearRegression()\n",
    "reg.fit(X, y)"
   ]
  },
  {
   "cell_type": "code",
   "execution_count": 56,
   "id": "c720ebcf",
   "metadata": {},
   "outputs": [
    {
     "data": {
      "text/plain": [
       "array([1., 2.])"
      ]
     },
     "execution_count": 56,
     "metadata": {},
     "output_type": "execute_result"
    }
   ],
   "source": [
    "reg.w\n",
    "# Expected: [1, 2]"
   ]
  },
  {
   "cell_type": "code",
   "execution_count": 57,
   "id": "38b7449e",
   "metadata": {},
   "outputs": [
    {
     "data": {
      "text/plain": [
       "3.0000000000000275"
      ]
     },
     "execution_count": 57,
     "metadata": {},
     "output_type": "execute_result"
    }
   ],
   "source": [
    "reg.b\n",
    "# Expected: 3"
   ]
  },
  {
   "cell_type": "code",
   "execution_count": 58,
   "id": "869c006e",
   "metadata": {},
   "outputs": [
    {
     "data": {
      "text/plain": [
       "array([16.])"
      ]
     },
     "execution_count": 58,
     "metadata": {},
     "output_type": "execute_result"
    }
   ],
   "source": [
    "reg.predict(np.array([[3, 5]]))\n",
    "# Expected: 16"
   ]
  },
  {
   "cell_type": "code",
   "execution_count": 59,
   "id": "0ad2a533",
   "metadata": {},
   "outputs": [
    {
     "data": {
      "text/plain": [
       "1.1521313520752877e-27"
      ]
     },
     "execution_count": 59,
     "metadata": {},
     "output_type": "execute_result"
    }
   ],
   "source": [
    "h_x = reg.predict(X)\n",
    "reg.loss(h_x, y)"
   ]
  },
  {
   "cell_type": "markdown",
   "id": "ee4929bd",
   "metadata": {},
   "source": [
    "# Example 2 - Diabets Dataset"
   ]
  },
  {
   "cell_type": "code",
   "execution_count": 68,
   "id": "ab7fe943",
   "metadata": {},
   "outputs": [],
   "source": [
    "from sklearn import datasets\n",
    "\n",
    "# Load the diabetes dataset.\n",
    "X, y = datasets.load_diabetes(return_X_y=True)\n",
    "# Use only one feature.\n",
    "X = X[:, np.newaxis, 2]\n",
    "# Split the data into training/test sets.\n",
    "X_train, y_train = X[:-20], y[:-20]\n",
    "X_test, y_test = X[-20:], y[-20:]"
   ]
  },
  {
   "cell_type": "code",
   "execution_count": 69,
   "id": "cad95fc6",
   "metadata": {},
   "outputs": [],
   "source": [
    "# Train the model using the training sets.\n",
    "reg.fit(X_train, y_train)\n",
    "\n",
    "# Make predictions using the test set.\n",
    "h_x = reg.predict(X_test)"
   ]
  },
  {
   "cell_type": "code",
   "execution_count": 78,
   "id": "83fe1570",
   "metadata": {},
   "outputs": [
    {
     "data": {
      "image/png": "[encoded data removed]",
      "text/plain": [
       "<Figure size 432x288 with 1 Axes>"
      ]
     },
     "metadata": {
      "needs_background": "light"
     },
     "output_type": "display_data"
    }
   ],
   "source": [
    "plt.scatter(X_test, y_test,  color='black')\n",
    "plt.plot(X_test, h_x, color='red', ls='-')\n",
    "plt.show()"
   ]
  },
  {
   "cell_type": "code",
   "execution_count": null,
   "id": "6f90c772",
   "metadata": {},
   "outputs": [],
   "source": []
  }
 ],
 "metadata": {
  "kernelspec": {
   "display_name": "Python 3 (ipykernel)",
   "language": "python",
   "name": "python3"
  },
  "language_info": {
   "codemirror_mode": {
    "name": "ipython",
    "version": 3
   },
   "file_extension": ".py",
   "mimetype": "text/x-python",
   "name": "python",
   "nbconvert_exporter": "python",
   "pygments_lexer": "ipython3",
   "version": "3.9.6"
  }
 },
 "nbformat": 4,
 "nbformat_minor": 5
}
