{
 "cells": [
  {
   "cell_type": "code",
   "execution_count": 14,
   "metadata": {},
   "outputs": [],
   "source": [
    "import numpy as np\n",
    "import matplotlib.pyplot as plt\n",
    "\n",
    "from sklearn import linear_model\n",
    "from sklearn.preprocessing import StandardScaler\n",
    "\n",
    "from models.util import add_intercept\n",
    "from models.linear_reg import LinearRegression\n",
    "from models.logistic_reg import LogisticRegression\n",
    "from models.perceptron import Perceptron\n",
    "from models.gda import GaussianDiscriminantAnalysis\n",
    "\n",
    "%matplotlib inline"
   ]
  },
  {
   "cell_type": "markdown",
   "metadata": {},
   "source": [
    "# Regressão Linear\n",
    "### Pré-processamento"
   ]
  },
  {
   "cell_type": "code",
   "execution_count": 2,
   "metadata": {},
   "outputs": [],
   "source": [
    "url = 'https://raw.githubusercontent.com/maxim5/cs229-2018-autumn/main/problem-sets/PS1/data/ds4_train.csv'\n",
    "\n",
    "# Baixa o arquivo .csv.\n",
    "data = np.genfromtxt(url, delimiter=',', skip_header=1)\n",
    "# Normaliza todo conjunto de dados.\n",
    "data = StandardScaler().fit_transform(data)\n",
    "# Divide os dados em conjunto de treinamento (x) e rótulos (y).\n",
    "x, y = data[:, :-1], data[:, -1]\n",
    "# Adiciona o termo de interseção a matriz x.\n",
    "x = add_intercept(x)"
   ]
  },
  {
   "cell_type": "markdown",
   "metadata": {},
   "source": [
    "### Implementado"
   ]
  },
  {
   "cell_type": "code",
   "execution_count": 3,
   "metadata": {},
   "outputs": [
    {
     "name": "stdout",
     "output_type": "stream",
     "text": [
      "coefs: [ 0.08594257 -0.08594257  0.36990795  0.66628149] \n",
      "intercept: -2.949029909160572e-17\n"
     ]
    }
   ],
   "source": [
    "reg = LinearRegression()\n",
    "reg.fit(x, y)\n",
    "print(f\"coefs: {reg.theta[1:]} \\nintercept: {reg.theta[0]}\")"
   ]
  },
  {
   "cell_type": "markdown",
   "metadata": {},
   "source": [
    "### scikit-learn"
   ]
  },
  {
   "cell_type": "code",
   "execution_count": 4,
   "metadata": {},
   "outputs": [
    {
     "name": "stdout",
     "output_type": "stream",
     "text": [
      "coefs: [ 0.08594257 -0.08594257  0.36990795  0.66628149] \n",
      "intercept: -1.4926542452852465e-17\n"
     ]
    }
   ],
   "source": [
    "reg_sk = linear_model.LinearRegression()\n",
    "reg_sk.fit(x[:, 1:], y)\n",
    "print(f\"coefs: {reg_sk.coef_} \\nintercept: {reg_sk.intercept_}\")"
   ]
  },
  {
   "cell_type": "markdown",
   "metadata": {},
   "source": [
    "# Regressão Logística e Perceptron\n",
    "### Pré-processamento"
   ]
  },
  {
   "cell_type": "code",
   "execution_count": 27,
   "metadata": {},
   "outputs": [],
   "source": [
    "url = 'https://raw.githubusercontent.com/maxim5/cs229-2018-autumn/main/problem-sets/PS1/data/ds1_train.csv'\n",
    "# Baixa o arquivo .csv.\n",
    "data = np.genfromtxt(url, delimiter=',', skip_header=1)\n",
    "# Divide os dados em conjunto de dados (x) e rótulos (y).\n",
    "x, y = data[:, :-1], data[:, -1]\n",
    "# Normaliza apenas o conjunto de treinamento.\n",
    "x = StandardScaler().fit_transform(x)\n",
    "# Adiciona o termo de interseção a matriz x.\n",
    "x = add_intercept(x)"
   ]
  },
  {
   "cell_type": "markdown",
   "metadata": {},
   "source": [
    "### Implementado"
   ]
  },
  {
   "cell_type": "code",
   "execution_count": 28,
   "metadata": {},
   "outputs": [
    {
     "name": "stdout",
     "output_type": "stream",
     "text": [
      "coefs: [ 2.10582971 -2.14095459] \n",
      "intercept: 0.25999999999999934\n"
     ]
    }
   ],
   "source": [
    "reg = Perceptron(solver='gradient', lr=0.01, max_iter=1000, verbose=False)\n",
    "reg.fit(x, y)\n",
    "print(f\"coefs: {reg.theta[1:]} \\nintercept: {reg.theta[0]}\")"
   ]
  },
  {
   "cell_type": "code",
   "execution_count": 29,
   "metadata": {},
   "outputs": [
    {
     "name": "stdout",
     "output_type": "stream",
     "text": [
      "coefs: [ 2.76512523 -3.4027657 ] \n",
      "intercept: -0.32548659859996326\n"
     ]
    }
   ],
   "source": [
    "reg = LogisticRegression(solver='gradient', lr=0.01, max_iter=1000, verbose=False)\n",
    "reg.fit(x, y)\n",
    "print(f\"coefs: {reg.theta[1:]} \\nintercept: {reg.theta[0]}\")"
   ]
  },
  {
   "cell_type": "markdown",
   "metadata": {},
   "source": [
    "### scikit-learn"
   ]
  },
  {
   "cell_type": "code",
   "execution_count": 30,
   "metadata": {},
   "outputs": [
    {
     "name": "stdout",
     "output_type": "stream",
     "text": [
      "coefs: [[ 5.86546342 -2.97167386]] \n",
      "intercept: [0.]\n"
     ]
    }
   ],
   "source": [
    "reg_sk = linear_model.Perceptron()\n",
    "reg_sk.fit(x[:, 1:], y)\n",
    "print(f\"coefs: {reg_sk.coef_} \\nintercept: {reg_sk.intercept_}\")"
   ]
  },
  {
   "cell_type": "code",
   "execution_count": 31,
   "metadata": {},
   "outputs": [
    {
     "name": "stdout",
     "output_type": "stream",
     "text": [
      "coefs: [[ 2.57488762 -3.09767416]] \n",
      "intercept: [-0.27865766]\n"
     ]
    }
   ],
   "source": [
    "reg_sk = linear_model.LogisticRegression()\n",
    "reg_sk.fit(x[:, 1:], y)\n",
    "print(f\"coefs: {reg_sk.coef_} \\nintercept: {reg_sk.intercept_}\")"
   ]
  },
  {
   "cell_type": "markdown",
   "metadata": {},
   "source": [
    "# GDA\n",
    "### Pré-processamento"
   ]
  },
  {
   "cell_type": "code",
   "execution_count": 32,
   "metadata": {},
   "outputs": [],
   "source": [
    "# TODO"
   ]
  },
  {
   "cell_type": "markdown",
   "metadata": {},
   "source": [
    "### Implementado"
   ]
  },
  {
   "cell_type": "code",
   "execution_count": 33,
   "metadata": {},
   "outputs": [],
   "source": [
    "# TODO"
   ]
  },
  {
   "cell_type": "markdown",
   "metadata": {},
   "source": [
    "### scikit-learn"
   ]
  },
  {
   "cell_type": "code",
   "execution_count": null,
   "metadata": {},
   "outputs": [],
   "source": [
    "# TODO"
   ]
  }
 ],
 "metadata": {
  "kernelspec": {
   "display_name": "Python 3",
   "language": "python",
   "name": "python3"
  },
  "language_info": {
   "codemirror_mode": {
    "name": "ipython",
    "version": 3
   },
   "file_extension": ".py",
   "mimetype": "text/x-python",
   "name": "python",
   "nbconvert_exporter": "python",
   "pygments_lexer": "ipython3",
   "version": "3.8.8"
  }
 },
 "nbformat": 4,
 "nbformat_minor": 4
}
